{
 "cells": [
  {
   "cell_type": "code",
   "execution_count": 1,
   "metadata": {},
   "outputs": [
    {
     "name": "stdout",
     "output_type": "stream",
     "text": [
      "14\n"
     ]
    }
   ],
   "source": [
    "# function\n",
    "\n",
    "name = 'shubham sharma'\n",
    "print(len(name))"
   ]
  },
  {
   "cell_type": "code",
   "execution_count": 2,
   "metadata": {},
   "outputs": [],
   "source": [
    "def add_two(a,b):\n",
    "    return a+b\n",
    "    total = add_two(5,4)\n",
    "    print(total)"
   ]
  },
  {
   "cell_type": "code",
   "execution_count": 6,
   "metadata": {},
   "outputs": [
    {
     "data": {
      "text/plain": [
       "9"
      ]
     },
     "execution_count": 6,
     "metadata": {},
     "output_type": "execute_result"
    }
   ],
   "source": [
    "add_two(4,5)\n"
   ]
  },
  {
   "cell_type": "code",
   "execution_count": 7,
   "metadata": {},
   "outputs": [
    {
     "name": "stdout",
     "output_type": "stream",
     "text": [
      "enter first number : 55\n",
      "enter second number : 65\n",
      "120\n"
     ]
    }
   ],
   "source": [
    "def add_two(num1,num2):\n",
    "    return num1 + num2\n",
    "\n",
    "a = int(input(\"enter first number : \"))\n",
    "b = int(input(\"enter second number : \"))\n",
    "\n",
    "total = add_two(a,b)\n",
    "print(total)"
   ]
  },
  {
   "cell_type": "code",
   "execution_count": 10,
   "metadata": {},
   "outputs": [
    {
     "name": "stdout",
     "output_type": "stream",
     "text": [
      "enter first number : 123\n",
      "enter second number : 321\n",
      "444\n"
     ]
    }
   ],
   "source": [
    "def add_two(num1,num2):\n",
    "    return num1 + num2\n",
    "\n",
    "a = int(input(\"enter first number : \"))\n",
    "b = int(input(\"enter second number : \"))\n",
    "\n",
    "total = add_two(a,b)\n",
    "print(total)"
   ]
  },
  {
   "cell_type": "code",
   "execution_count": 11,
   "metadata": {},
   "outputs": [],
   "source": [
    "# function for str concatination\n"
   ]
  },
  {
   "cell_type": "code",
   "execution_count": 13,
   "metadata": {},
   "outputs": [
    {
     "name": "stdout",
     "output_type": "stream",
     "text": [
      "shubham kumar sharma \n"
     ]
    }
   ],
   "source": [
    "first_name = \"shubham \"\n",
    "middle_name = \"kumar \"\n",
    "last_name = \"sharma \"\n",
    "\n",
    "add_three = first_name + middle_name + last_name\n",
    "print(add_three)"
   ]
  },
  {
   "cell_type": "code",
   "execution_count": 14,
   "metadata": {},
   "outputs": [
    {
     "name": "stdout",
     "output_type": "stream",
     "text": [
      "enter first name : shubham\n",
      "enter second name : sharma\n",
      "shubham sharma\n"
     ]
    }
   ],
   "source": [
    "# def add_two(first_name,last_name):\n",
    "#     return first_name + last_name\n",
    "\n",
    "fisrt_name = input(\"enter first name : \")\n",
    "second_name = input(\"enter second name : \")\n",
    "add_two = first_name + second_name\n",
    "print(add_two)\n"
   ]
  },
  {
   "cell_type": "code",
   "execution_count": 18,
   "metadata": {},
   "outputs": [
    {
     "name": "stdout",
     "output_type": "stream",
     "text": [
      "enter first name : shubham\n",
      "enter last name : sharma\n",
      "shubhamsharma\n"
     ]
    }
   ],
   "source": [
    "def add_two(a,b):\n",
    "    return a + b\n",
    "a = input(\"enter first name : \" )\n",
    "b = input(\"enter last name : \")  \n",
    "total = add_two(a, b)\n",
    "print(total)"
   ]
  },
  {
   "cell_type": "code",
   "execution_count": 19,
   "metadata": {},
   "outputs": [
    {
     "name": "stdout",
     "output_type": "stream",
     "text": [
      "enter first name : rahul\n",
      "enter last name : sharma\n",
      "rahulsharma\n"
     ]
    }
   ],
   "source": [
    "def add_two(a,b):\n",
    "    return a + b\n",
    "a = input(\"enter first name : \" )\n",
    "b = input(\"enter last name : \")  \n",
    "total = add_two(a, b)\n",
    "print(total)"
   ]
  },
  {
   "cell_type": "code",
   "execution_count": null,
   "metadata": {},
   "outputs": [],
   "source": []
  }
 ],
 "metadata": {
  "kernelspec": {
   "display_name": "Python 3",
   "language": "python",
   "name": "python3"
  },
  "language_info": {
   "codemirror_mode": {
    "name": "ipython",
    "version": 3
   },
   "file_extension": ".py",
   "mimetype": "text/x-python",
   "name": "python",
   "nbconvert_exporter": "python",
   "pygments_lexer": "ipython3",
   "version": "3.7.6"
  }
 },
 "nbformat": 4,
 "nbformat_minor": 4
}
