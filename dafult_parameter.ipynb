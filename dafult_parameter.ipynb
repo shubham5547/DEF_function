{
 "cells": [
  {
   "cell_type": "code",
   "execution_count": 1,
   "metadata": {},
   "outputs": [],
   "source": [
    "# default parameters"
   ]
  },
  {
   "cell_type": "code",
   "execution_count": 3,
   "metadata": {},
   "outputs": [],
   "source": [
    "def user_info(first_name,last_name,age):\n",
    "    print(f\"your first name is {first_name}\")\n",
    "    print(f\"your last name is {last_name}\")\n",
    "    print(f\"your age is {age}\")\n",
    "    "
   ]
  },
  {
   "cell_type": "code",
   "execution_count": 7,
   "metadata": {},
   "outputs": [
    {
     "name": "stdout",
     "output_type": "stream",
     "text": [
      "your first name is shubham\n",
      "your last name is sharma\n",
      "your age is 25\n"
     ]
    }
   ],
   "source": [
    "user_info('shubham','sharma','25')"
   ]
  },
  {
   "cell_type": "code",
   "execution_count": 8,
   "metadata": {},
   "outputs": [],
   "source": [
    "def user_info(first_name,last_name,age = 20):\n",
    "    print(f\"your first name is {first_name}\")\n",
    "    print(f\"your last name is {last_name}\")\n",
    "    print(f\"your age is {age}\")\n",
    "    "
   ]
  },
  {
   "cell_type": "code",
   "execution_count": 9,
   "metadata": {},
   "outputs": [
    {
     "name": "stdout",
     "output_type": "stream",
     "text": [
      "your first name is shubham\n",
      "your last name is sharma\n",
      "your age is 20\n"
     ]
    }
   ],
   "source": [
    "user_info('shubham','sharma',)"
   ]
  },
  {
   "cell_type": "code",
   "execution_count": 14,
   "metadata": {},
   "outputs": [],
   "source": [
    "def user_info(first_name,last_name = 'none', age = 'unknown'):\n",
    "    print(f\"your first name is {first_name}\")\n",
    "    print(f\"your last name is {last_name}\")\n",
    "    print(f\"your age is {age}\")\n",
    "    "
   ]
  },
  {
   "cell_type": "code",
   "execution_count": 15,
   "metadata": {},
   "outputs": [
    {
     "name": "stdout",
     "output_type": "stream",
     "text": [
      "your first name is shubham\n",
      "your last name is none\n",
      "your age is unknown\n"
     ]
    }
   ],
   "source": [
    "user_info('shubham')"
   ]
  },
  {
   "cell_type": "code",
   "execution_count": null,
   "metadata": {},
   "outputs": [],
   "source": [
    "# you can not use default parameter in middle, you can use default as a last term"
   ]
  }
 ],
 "metadata": {
  "kernelspec": {
   "display_name": "Python 3",
   "language": "python",
   "name": "python3"
  },
  "language_info": {
   "codemirror_mode": {
    "name": "ipython",
    "version": 3
   },
   "file_extension": ".py",
   "mimetype": "text/x-python",
   "name": "python",
   "nbconvert_exporter": "python",
   "pygments_lexer": "ipython3",
   "version": "3.7.6"
  }
 },
 "nbformat": 4,
 "nbformat_minor": 4
}
